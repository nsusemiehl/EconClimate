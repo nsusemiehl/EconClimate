{
 "cells": [
  {
   "cell_type": "code",
   "execution_count": 4,
   "id": "e073c7a6",
   "metadata": {},
   "outputs": [],
   "source": [
    "import xgboost as xgb\n",
    "import pandas as pd\n",
    "import datetime"
   ]
  },
  {
   "cell_type": "code",
   "execution_count": 14,
   "id": "4d0dea8e",
   "metadata": {},
   "outputs": [],
   "source": [
    "all_df_imputed = pd.read_csv(\"G:\\\\My Drive\\\\GA Tech\\\\Practicum\\\\EconClimate\\\\data\\\\processed\\\\all_df_imputed.csv\")\n",
    "all_df_imputed[\"Date\"] = pd.to_datetime(all_df_imputed.Date).dt.date\n",
    "all_df_imputed_pre = all_df_imputed[(all_df_imputed['Date'] < datetime.date(2020, 11, 24))]\n",
    "all_df_imputed_2020 = all_df_imputed[(all_df_imputed['Date'] >= datetime.date(2020, 11, 24)) & (all_df_imputed['Date'] <= datetime.date(2021, 12, 31))]\n",
    "all_df_imputed_2022 = all_df_imputed[(all_df_imputed['Date'] >= datetime.date(2022, 1, 1))].dropna()"
   ]
  },
  {
   "cell_type": "code",
   "execution_count": null,
   "id": "8feedd18",
   "metadata": {},
   "outputs": [],
   "source": [
    "SO2_train_X = SO2_train.drop(\"SO2_ow\", axis=1)\n",
    "SO2_train_y = SO2_train[\"SO2_ow\"]\n",
    "\n",
    "SO2_test_X = SO2_test.drop(\"SO2_ow\", axis=1)\n",
    "SO2_test_y = SO2_test[\"SO2_ow\"]\n",
    "\n",
    "SO2_model = xgb.XGBRegressor(objective='reg:squarederror', n_estimators=1000)\n",
    "SO2_model.fit(SO2_train_X, SO2_train_y)\n",
    "\n",
    "SO2_test_preds = SO2_model.predict(SO2_test_X)\n",
    "\n",
    "SO2_mse = np.mean((SO2_test_preds - SO2_test_y)**2)\n",
    "SO2_mse"
   ]
  },
  {
   "cell_type": "code",
   "execution_count": null,
   "id": "fce05cb4",
   "metadata": {},
   "outputs": [],
   "source": [
    "SO2_backcast = SO2_model.predict(SO2_pre)\n",
    "\n",
    "plt.plot_date(SO2_pre.index, SO2_backcast, label=\"Forecasted\", alpha=0.5)\n",
    "plt.plot_date(ow_data_date[\"Date\"], ow_data_date[\"SO2\"], label=\"OW\", alpha=0.5)\n",
    "plt.ylabel(\"SO2 Concentration\")\n",
    "plt.xlabel(\"Date\")\n",
    "plt.legend()\n",
    "plt.show()"
   ]
  },
  {
   "cell_type": "code",
   "execution_count": null,
   "id": "69fa4b14",
   "metadata": {},
   "outputs": [],
   "source": [
    "NO2_train_X = NO2_train.drop(\"NO2_ow\", axis=1)\n",
    "NO2_train_y = NO2_train[\"NO2_ow\"]\n",
    "\n",
    "NO2_test_X = NO2_test.drop(\"NO2_ow\", axis=1)\n",
    "NO2_test_y = NO2_test[\"NO2_ow\"]\n",
    "\n",
    "NO2_model = xgb.XGBRegressor(objective='reg:squarederror', n_estimators=1000)\n",
    "NO2_model.fit(NO2_train_X, NO2_train_y)\n",
    "\n",
    "NO2_test_preds = NO2_model.predict(NO2_test_X)\n",
    "\n",
    "NO2_mse = np.mean((NO2_test_preds - NO2_test_y)**2)\n",
    "NO2_mse"
   ]
  },
  {
   "cell_type": "code",
   "execution_count": null,
   "id": "b1b548d3",
   "metadata": {},
   "outputs": [],
   "source": [
    "NO2_backcast = NO2_model.predict(NO2_pre)\n",
    "\n",
    "plt.plot_date(NO2_pre.index, NO2_backcast, label=\"Forecasted\", alpha=0.5)\n",
    "plt.plot_date(ow_data_date[\"Date\"], ow_data_date[\"NO2\"], label=\"OW\", alpha=0.5)\n",
    "plt.ylabel(\"NO2 Concentration\")\n",
    "plt.xlabel(\"Date\")\n",
    "plt.legend()\n",
    "plt.show()"
   ]
  },
  {
   "cell_type": "code",
   "execution_count": null,
   "id": "6e4d5da9",
   "metadata": {},
   "outputs": [],
   "source": [
    "CO_train_X = CO_train.drop(\"CO_ow\", axis=1)\n",
    "CO_train_y = CO_train[\"CO_ow\"]\n",
    "\n",
    "CO_test_X = CO_test.drop(\"CO_ow\", axis=1)\n",
    "CO_test_y = CO_test[\"CO_ow\"]\n",
    "\n",
    "CO_model = xgb.XGBRegressor(objective='reg:squarederror', n_estimators=1000)\n",
    "CO_model.fit(CO_train_X, CO_train_y)\n",
    "\n",
    "CO_test_preds = CO_model.predict(CO_test_X)\n",
    "\n",
    "CO_mse = np.mean((CO_test_preds - CO_test_y)**2)\n",
    "CO_mse"
   ]
  },
  {
   "cell_type": "code",
   "execution_count": null,
   "id": "b735b221",
   "metadata": {},
   "outputs": [],
   "source": [
    "CO_backcast = CO_model.predict(CO_pre)\n",
    "\n",
    "plt.plot_date(CO_pre.index, CO_backcast, label=\"Forecasted\", alpha=0.5)\n",
    "plt.plot_date(ow_data_date[\"Date\"], ow_data_date[\"CO\"], label=\"OW\", alpha=0.5)\n",
    "plt.ylabel(\"CO Concentration\")\n",
    "plt.xlabel(\"Date\")\n",
    "plt.legend()\n",
    "plt.show()"
   ]
  },
  {
   "cell_type": "code",
   "execution_count": null,
   "id": "eefeb8fb",
   "metadata": {},
   "outputs": [],
   "source": [
    "PM2_5_train_X = PM2_5_train.drop(\"PM2_5_ow\", axis=1)\n",
    "PM2_5_train_y = PM2_5_train[\"PM2_5_ow\"]\n",
    "\n",
    "PM2_5_test_X = PM2_5_test.drop(\"PM2_5_ow\", axis=1)\n",
    "PM2_5_test_y = PM2_5_test[\"PM2_5_ow\"]\n",
    "\n",
    "PM2_5_model = xgb.XGBRegressor(objective='reg:squarederror', n_estimators=1000)\n",
    "PM2_5_model.fit(PM2_5_train_X, PM2_5_train_y)\n",
    "\n",
    "PM2_5_test_preds = PM2_5_model.predict(PM2_5_test_X)\n",
    "\n",
    "PM2_5_mse = np.mean((PM2_5_test_preds - PM2_5_test_y)**2)\n",
    "PM2_5_mse"
   ]
  },
  {
   "cell_type": "code",
   "execution_count": null,
   "id": "cc406579",
   "metadata": {},
   "outputs": [],
   "source": [
    "PM2_5_backcast = PM2_5_model.predict(PM2_5_pre)\n",
    "\n",
    "plt.plot_date(PM2_5_pre.index, PM2_5_backcast, label=\"Forecasted\", alpha=0.5)\n",
    "plt.plot_date(ow_data_date[\"Date\"], ow_data_date[\"PM2_5\"], label=\"OW\", alpha=0.5)\n",
    "plt.ylabel(\"PM2_5 Concentration\")\n",
    "plt.xlabel(\"Date\")\n",
    "plt.legend()\n",
    "plt.show()"
   ]
  },
  {
   "cell_type": "code",
   "execution_count": null,
   "id": "0b187630",
   "metadata": {},
   "outputs": [],
   "source": []
  }
 ],
 "metadata": {
  "kernelspec": {
   "display_name": "Python 3 (ipykernel)",
   "language": "python",
   "name": "python3"
  },
  "language_info": {
   "codemirror_mode": {
    "name": "ipython",
    "version": 3
   },
   "file_extension": ".py",
   "mimetype": "text/x-python",
   "name": "python",
   "nbconvert_exporter": "python",
   "pygments_lexer": "ipython3",
   "version": "3.8.3"
  }
 },
 "nbformat": 4,
 "nbformat_minor": 5
}
