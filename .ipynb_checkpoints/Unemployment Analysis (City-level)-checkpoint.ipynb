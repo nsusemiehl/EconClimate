{
 "cells": [
  {
   "cell_type": "code",
   "execution_count": 6,
   "id": "b7dd7327",
   "metadata": {},
   "outputs": [
    {
     "name": "stderr",
     "output_type": "stream",
     "text": [
      "C:\\Users\\Nick\\anaconda3\\envs\\pract\\lib\\site-packages\\statsmodels\\compat\\pandas.py:61: FutureWarning: pandas.Int64Index is deprecated and will be removed from pandas in a future version. Use pandas.Index with the appropriate dtype instead.\n",
      "  from pandas import Int64Index as NumericIndex\n"
     ]
    }
   ],
   "source": [
    "import pandas as pd\n",
    "import numpy as np\n",
    "import os\n",
    "import matplotlib.pyplot as plt\n",
    "import datetime\n",
    "from sklearn.linear_model import LinearRegression\n",
    "from sklearn.tree import DecisionTreeRegressor\n",
    "from sklearn.ensemble import RandomForestRegressor\n",
    "from xgboost import XGBRegressor\n",
    "import statsmodels.api as sm\n",
    "from sklearn.preprocessing import StandardScaler"
   ]
  },
  {
   "cell_type": "code",
   "execution_count": 2,
   "id": "806b884d",
   "metadata": {},
   "outputs": [],
   "source": [
    "all_pollutant_data = pd.read_csv(\".\\\\data\\\\processed_new\\\\all_pollutant_data_city.csv\")\n",
    "all_pollutant_data[\"Date\"] = pd.to_datetime(all_pollutant_data.Date).dt.date\n",
    "\n",
    "all_unemployment_data = pd.read_csv(\".\\\\data\\\\processed_new\\\\all_unemployment_data.csv\")\n",
    "all_unemployment_data[\"Date\"] = pd.to_datetime(all_unemployment_data.Date).dt.date"
   ]
  },
  {
   "cell_type": "code",
   "execution_count": 10,
   "id": "1a3c3cbe",
   "metadata": {},
   "outputs": [
    {
     "data": {
      "text/html": [
       "<div>\n",
       "<style scoped>\n",
       "    .dataframe tbody tr th:only-of-type {\n",
       "        vertical-align: middle;\n",
       "    }\n",
       "\n",
       "    .dataframe tbody tr th {\n",
       "        vertical-align: top;\n",
       "    }\n",
       "\n",
       "    .dataframe thead th {\n",
       "        text-align: right;\n",
       "    }\n",
       "</style>\n",
       "<table border=\"1\" class=\"dataframe\">\n",
       "  <thead>\n",
       "    <tr style=\"text-align: right;\">\n",
       "      <th></th>\n",
       "      <th>Y-m</th>\n",
       "      <th>City</th>\n",
       "      <th>CO</th>\n",
       "      <th>NO2</th>\n",
       "      <th>SO2</th>\n",
       "      <th>PM2_5</th>\n",
       "      <th>Estimated Unemployment Rate (%)</th>\n",
       "    </tr>\n",
       "  </thead>\n",
       "  <tbody>\n",
       "    <tr>\n",
       "      <th>0</th>\n",
       "      <td>2018-01</td>\n",
       "      <td>Agartala</td>\n",
       "      <td>956.423048</td>\n",
       "      <td>14.775519</td>\n",
       "      <td>7.417984</td>\n",
       "      <td>139.000760</td>\n",
       "      <td>31.11</td>\n",
       "    </tr>\n",
       "    <tr>\n",
       "      <th>1</th>\n",
       "      <td>2018-01</td>\n",
       "      <td>Agra</td>\n",
       "      <td>1278.267823</td>\n",
       "      <td>24.762805</td>\n",
       "      <td>12.173979</td>\n",
       "      <td>174.590756</td>\n",
       "      <td>4.03</td>\n",
       "    </tr>\n",
       "    <tr>\n",
       "      <th>2</th>\n",
       "      <td>2018-01</td>\n",
       "      <td>Aizwal</td>\n",
       "      <td>835.838529</td>\n",
       "      <td>4.041054</td>\n",
       "      <td>5.734123</td>\n",
       "      <td>112.508366</td>\n",
       "      <td>5.01</td>\n",
       "    </tr>\n",
       "    <tr>\n",
       "      <th>3</th>\n",
       "      <td>2018-01</td>\n",
       "      <td>Amritsar</td>\n",
       "      <td>1446.834901</td>\n",
       "      <td>21.450630</td>\n",
       "      <td>11.055651</td>\n",
       "      <td>189.679878</td>\n",
       "      <td>6.69</td>\n",
       "    </tr>\n",
       "    <tr>\n",
       "      <th>4</th>\n",
       "      <td>2018-01</td>\n",
       "      <td>Asansol</td>\n",
       "      <td>1137.709346</td>\n",
       "      <td>24.799873</td>\n",
       "      <td>25.826495</td>\n",
       "      <td>166.614636</td>\n",
       "      <td>8.63</td>\n",
       "    </tr>\n",
       "    <tr>\n",
       "      <th>...</th>\n",
       "      <td>...</td>\n",
       "      <td>...</td>\n",
       "      <td>...</td>\n",
       "      <td>...</td>\n",
       "      <td>...</td>\n",
       "      <td>...</td>\n",
       "      <td>...</td>\n",
       "    </tr>\n",
       "    <tr>\n",
       "      <th>2836</th>\n",
       "      <td>2022-07</td>\n",
       "      <td>Solapur</td>\n",
       "      <td>241.367882</td>\n",
       "      <td>3.462263</td>\n",
       "      <td>2.022338</td>\n",
       "      <td>3.581522</td>\n",
       "      <td>3.73</td>\n",
       "    </tr>\n",
       "    <tr>\n",
       "      <th>2837</th>\n",
       "      <td>2022-07</td>\n",
       "      <td>Srinagar</td>\n",
       "      <td>1478.492269</td>\n",
       "      <td>43.655226</td>\n",
       "      <td>12.104774</td>\n",
       "      <td>61.230544</td>\n",
       "      <td>20.22</td>\n",
       "    </tr>\n",
       "    <tr>\n",
       "      <th>2838</th>\n",
       "      <td>2022-07</td>\n",
       "      <td>Thiruvananthapuram</td>\n",
       "      <td>220.199491</td>\n",
       "      <td>1.964161</td>\n",
       "      <td>1.588050</td>\n",
       "      <td>4.816510</td>\n",
       "      <td>4.93</td>\n",
       "    </tr>\n",
       "    <tr>\n",
       "      <th>2839</th>\n",
       "      <td>2022-07</td>\n",
       "      <td>Varanasi</td>\n",
       "      <td>680.913750</td>\n",
       "      <td>13.196834</td>\n",
       "      <td>10.045312</td>\n",
       "      <td>45.573409</td>\n",
       "      <td>3.29</td>\n",
       "    </tr>\n",
       "    <tr>\n",
       "      <th>2840</th>\n",
       "      <td>2022-07</td>\n",
       "      <td>Visakhapatnam</td>\n",
       "      <td>711.093507</td>\n",
       "      <td>33.227431</td>\n",
       "      <td>62.294381</td>\n",
       "      <td>33.868380</td>\n",
       "      <td>5.79</td>\n",
       "    </tr>\n",
       "  </tbody>\n",
       "</table>\n",
       "<p>2841 rows × 7 columns</p>\n",
       "</div>"
      ],
      "text/plain": [
       "          Y-m                City           CO        NO2        SO2  \\\n",
       "0     2018-01            Agartala   956.423048  14.775519   7.417984   \n",
       "1     2018-01                Agra  1278.267823  24.762805  12.173979   \n",
       "2     2018-01              Aizwal   835.838529   4.041054   5.734123   \n",
       "3     2018-01            Amritsar  1446.834901  21.450630  11.055651   \n",
       "4     2018-01             Asansol  1137.709346  24.799873  25.826495   \n",
       "...       ...                 ...          ...        ...        ...   \n",
       "2836  2022-07             Solapur   241.367882   3.462263   2.022338   \n",
       "2837  2022-07            Srinagar  1478.492269  43.655226  12.104774   \n",
       "2838  2022-07  Thiruvananthapuram   220.199491   1.964161   1.588050   \n",
       "2839  2022-07            Varanasi   680.913750  13.196834  10.045312   \n",
       "2840  2022-07       Visakhapatnam   711.093507  33.227431  62.294381   \n",
       "\n",
       "           PM2_5  Estimated Unemployment Rate (%)  \n",
       "0     139.000760                            31.11  \n",
       "1     174.590756                             4.03  \n",
       "2     112.508366                             5.01  \n",
       "3     189.679878                             6.69  \n",
       "4     166.614636                             8.63  \n",
       "...          ...                              ...  \n",
       "2836    3.581522                             3.73  \n",
       "2837   61.230544                            20.22  \n",
       "2838    4.816510                             4.93  \n",
       "2839   45.573409                             3.29  \n",
       "2840   33.868380                             5.79  \n",
       "\n",
       "[2841 rows x 7 columns]"
      ]
     },
     "execution_count": 10,
     "metadata": {},
     "output_type": "execute_result"
    }
   ],
   "source": [
    "all_unemployment_data[\"Y-m\"] = all_unemployment_data[\"Date\"].apply(lambda x: x.strftime('%Y-%m'))\n",
    "all_unemployment_data_monthly = all_unemployment_data.groupby([\"Y-m\", \"City\"]).mean().reset_index()\n",
    "\n",
    "all_pollutant_data[\"Y-m\"] = all_pollutant_data[\"Date\"].apply(lambda x: x.strftime('%Y-%m'))\n",
    "all_pollutant_data_monthly = all_pollutant_data.groupby([\"Y-m\", \"City\"]).mean().reset_index()\n",
    "\n",
    "econclimate = all_pollutant_data_monthly.merge(all_unemployment_data_monthly, on=[\"Y-m\", \"City\"], how=\"inner\")\n",
    "columns = econclimate.drop([\"Y-m\", \"City\"], axis=1).columns\n",
    "econclimate"
   ]
  },
  {
   "cell_type": "code",
   "execution_count": 4,
   "id": "52420b52",
   "metadata": {},
   "outputs": [],
   "source": [
    "econclimate.to_csv(\".\\\\data\\\\processed_new\\\\econclimate.csv\", index=False)"
   ]
  },
  {
   "cell_type": "code",
   "execution_count": 11,
   "id": "23dde1f0",
   "metadata": {},
   "outputs": [],
   "source": [
    "scaler = StandardScaler()\n",
    "econclimate = scaler.fit_transform(econclimate.drop([\"Y-m\", \"City\"], axis=1))"
   ]
  },
  {
   "cell_type": "code",
   "execution_count": 12,
   "id": "2a294b14",
   "metadata": {},
   "outputs": [
    {
     "data": {
      "text/html": [
       "<div>\n",
       "<style scoped>\n",
       "    .dataframe tbody tr th:only-of-type {\n",
       "        vertical-align: middle;\n",
       "    }\n",
       "\n",
       "    .dataframe tbody tr th {\n",
       "        vertical-align: top;\n",
       "    }\n",
       "\n",
       "    .dataframe thead th {\n",
       "        text-align: right;\n",
       "    }\n",
       "</style>\n",
       "<table border=\"1\" class=\"dataframe\">\n",
       "  <thead>\n",
       "    <tr style=\"text-align: right;\">\n",
       "      <th></th>\n",
       "      <th>CO</th>\n",
       "      <th>NO2</th>\n",
       "      <th>SO2</th>\n",
       "      <th>PM2_5</th>\n",
       "      <th>Estimated Unemployment Rate (%)</th>\n",
       "    </tr>\n",
       "  </thead>\n",
       "  <tbody>\n",
       "    <tr>\n",
       "      <th>CO</th>\n",
       "      <td>1.000000</td>\n",
       "      <td>0.871977</td>\n",
       "      <td>0.729659</td>\n",
       "      <td>0.897399</td>\n",
       "      <td>0.114483</td>\n",
       "    </tr>\n",
       "    <tr>\n",
       "      <th>NO2</th>\n",
       "      <td>0.871977</td>\n",
       "      <td>1.000000</td>\n",
       "      <td>0.809418</td>\n",
       "      <td>0.690870</td>\n",
       "      <td>0.221463</td>\n",
       "    </tr>\n",
       "    <tr>\n",
       "      <th>SO2</th>\n",
       "      <td>0.729659</td>\n",
       "      <td>0.809418</td>\n",
       "      <td>1.000000</td>\n",
       "      <td>0.562644</td>\n",
       "      <td>0.087702</td>\n",
       "    </tr>\n",
       "    <tr>\n",
       "      <th>PM2_5</th>\n",
       "      <td>0.897399</td>\n",
       "      <td>0.690870</td>\n",
       "      <td>0.562644</td>\n",
       "      <td>1.000000</td>\n",
       "      <td>0.051346</td>\n",
       "    </tr>\n",
       "    <tr>\n",
       "      <th>Estimated Unemployment Rate (%)</th>\n",
       "      <td>0.114483</td>\n",
       "      <td>0.221463</td>\n",
       "      <td>0.087702</td>\n",
       "      <td>0.051346</td>\n",
       "      <td>1.000000</td>\n",
       "    </tr>\n",
       "  </tbody>\n",
       "</table>\n",
       "</div>"
      ],
      "text/plain": [
       "                                       CO       NO2       SO2     PM2_5  \\\n",
       "CO                               1.000000  0.871977  0.729659  0.897399   \n",
       "NO2                              0.871977  1.000000  0.809418  0.690870   \n",
       "SO2                              0.729659  0.809418  1.000000  0.562644   \n",
       "PM2_5                            0.897399  0.690870  0.562644  1.000000   \n",
       "Estimated Unemployment Rate (%)  0.114483  0.221463  0.087702  0.051346   \n",
       "\n",
       "                                 Estimated Unemployment Rate (%)  \n",
       "CO                                                      0.114483  \n",
       "NO2                                                     0.221463  \n",
       "SO2                                                     0.087702  \n",
       "PM2_5                                                   0.051346  \n",
       "Estimated Unemployment Rate (%)                         1.000000  "
      ]
     },
     "execution_count": 12,
     "metadata": {},
     "output_type": "execute_result"
    }
   ],
   "source": [
    "pd.DataFrame(econclimate, columns=columns).corr()"
   ]
  },
  {
   "cell_type": "code",
   "execution_count": 13,
   "id": "7fd4d7b8",
   "metadata": {},
   "outputs": [],
   "source": [
    "X = econclimate[:,:-1]\n",
    "y = econclimate[:,-1]"
   ]
  },
  {
   "cell_type": "code",
   "execution_count": 14,
   "id": "1784df47",
   "metadata": {},
   "outputs": [
    {
     "name": "stdout",
     "output_type": "stream",
     "text": [
      "CO -0.21563644508260735\n",
      "NO2 0.6608917498370815\n",
      "SO2 -0.24986433728274599\n",
      "PM2_5 -0.07114735762759516\n"
     ]
    }
   ],
   "source": [
    "model = LinearRegression()\n",
    "model.fit(X, y)\n",
    "importance = model.coef_\n",
    "for i in range(len(importance)):\n",
    "    print(columns[i], importance[i])"
   ]
  },
  {
   "cell_type": "code",
   "execution_count": 15,
   "id": "92b5abb1",
   "metadata": {},
   "outputs": [
    {
     "data": {
      "text/html": [
       "<table class=\"simpletable\">\n",
       "<tr>\n",
       "          <td>Model:</td>                 <td>OLS</td>       <td>Adj. R-squared (uncentered):</td>   <td>0.095</td>  \n",
       "</tr>\n",
       "<tr>\n",
       "    <td>Dependent Variable:</td>           <td>y</td>                    <td>AIC:</td>             <td>7783.3328</td>\n",
       "</tr>\n",
       "<tr>\n",
       "           <td>Date:</td>          <td>2022-11-27 08:31</td>             <td>BIC:</td>             <td>7807.1404</td>\n",
       "</tr>\n",
       "<tr>\n",
       "     <td>No. Observations:</td>          <td>2841</td>              <td>Log-Likelihood:</td>        <td>-3887.7</td> \n",
       "</tr>\n",
       "<tr>\n",
       "         <td>Df Model:</td>                <td>4</td>                <td>F-statistic:</td>           <td>75.41</td>  \n",
       "</tr>\n",
       "<tr>\n",
       "       <td>Df Residuals:</td>            <td>2837</td>            <td>Prob (F-statistic):</td>     <td>7.72e-61</td> \n",
       "</tr>\n",
       "<tr>\n",
       "  <td>R-squared (uncentered):</td>       <td>0.096</td>                 <td>Scale:</td>             <td>0.90516</td> \n",
       "</tr>\n",
       "</table>\n",
       "<table class=\"simpletable\">\n",
       "<tr>\n",
       "   <td></td>   <th>Coef.</th>  <th>Std.Err.</th>    <th>t</th>     <th>P>|t|</th> <th>[0.025</th>  <th>0.975]</th> \n",
       "</tr>\n",
       "<tr>\n",
       "  <th>x1</th> <td>-0.2156</td>  <td>0.0666</td>  <td>-3.2370</td> <td>0.0012</td> <td>-0.3463</td> <td>-0.0850</td>\n",
       "</tr>\n",
       "<tr>\n",
       "  <th>x2</th> <td>0.6609</td>   <td>0.0451</td>  <td>14.6606</td> <td>0.0000</td> <td>0.5725</td>  <td>0.7493</td> \n",
       "</tr>\n",
       "<tr>\n",
       "  <th>x3</th> <td>-0.2499</td>  <td>0.0307</td>  <td>-8.1414</td> <td>0.0000</td> <td>-0.3100</td> <td>-0.1897</td>\n",
       "</tr>\n",
       "<tr>\n",
       "  <th>x4</th> <td>-0.0711</td>  <td>0.0450</td>  <td>-1.5827</td> <td>0.1136</td> <td>-0.1593</td> <td>0.0170</td> \n",
       "</tr>\n",
       "</table>\n",
       "<table class=\"simpletable\">\n",
       "<tr>\n",
       "     <td>Omnibus:</td>    <td>1610.929</td>  <td>Durbin-Watson:</td>     <td>1.620</td>  \n",
       "</tr>\n",
       "<tr>\n",
       "  <td>Prob(Omnibus):</td>   <td>0.000</td>  <td>Jarque-Bera (JB):</td> <td>17313.711</td>\n",
       "</tr>\n",
       "<tr>\n",
       "       <td>Skew:</td>       <td>2.504</td>      <td>Prob(JB):</td>       <td>0.000</td>  \n",
       "</tr>\n",
       "<tr>\n",
       "     <td>Kurtosis:</td>    <td>14.008</td>   <td>Condition No.:</td>       <td>8</td>    \n",
       "</tr>\n",
       "</table>"
      ],
      "text/plain": [
       "<class 'statsmodels.iolib.summary2.Summary'>\n",
       "\"\"\"\n",
       "                        Results: Ordinary least squares\n",
       "===============================================================================\n",
       "Model:                  OLS              Adj. R-squared (uncentered): 0.095    \n",
       "Dependent Variable:     y                AIC:                         7783.3328\n",
       "Date:                   2022-11-27 08:31 BIC:                         7807.1404\n",
       "No. Observations:       2841             Log-Likelihood:              -3887.7  \n",
       "Df Model:               4                F-statistic:                 75.41    \n",
       "Df Residuals:           2837             Prob (F-statistic):          7.72e-61 \n",
       "R-squared (uncentered): 0.096            Scale:                       0.90516  \n",
       "------------------------------------------------------------------------------------\n",
       "             Coef.       Std.Err.         t         P>|t|        [0.025       0.975]\n",
       "------------------------------------------------------------------------------------\n",
       "x1          -0.2156        0.0666      -3.2370      0.0012      -0.3463      -0.0850\n",
       "x2           0.6609        0.0451      14.6606      0.0000       0.5725       0.7493\n",
       "x3          -0.2499        0.0307      -8.1414      0.0000      -0.3100      -0.1897\n",
       "x4          -0.0711        0.0450      -1.5827      0.1136      -0.1593       0.0170\n",
       "-------------------------------------------------------------------------------\n",
       "Omnibus:                 1610.929          Durbin-Watson:             1.620    \n",
       "Prob(Omnibus):           0.000             Jarque-Bera (JB):          17313.711\n",
       "Skew:                    2.504             Prob(JB):                  0.000    \n",
       "Kurtosis:                14.008            Condition No.:             8        \n",
       "===============================================================================\n",
       "\n",
       "\"\"\""
      ]
     },
     "execution_count": 15,
     "metadata": {},
     "output_type": "execute_result"
    }
   ],
   "source": [
    "mod = sm.OLS(y,X)\n",
    "fit = mod.fit()\n",
    "fit.summary2()"
   ]
  },
  {
   "cell_type": "code",
   "execution_count": 16,
   "id": "fe898319",
   "metadata": {},
   "outputs": [
    {
     "name": "stdout",
     "output_type": "stream",
     "text": [
      "CO 0.15914828519822488\n",
      "NO2 0.3040906594659085\n",
      "SO2 0.33211753072843514\n",
      "PM2_5 0.20464352460743138\n"
     ]
    }
   ],
   "source": [
    "model = DecisionTreeRegressor()\n",
    "model.fit(X, y)\n",
    "importance = model.feature_importances_\n",
    "for i in range(len(importance)):\n",
    "    print(columns[i], importance[i])"
   ]
  },
  {
   "cell_type": "code",
   "execution_count": 17,
   "id": "b2e2dff7",
   "metadata": {},
   "outputs": [
    {
     "name": "stdout",
     "output_type": "stream",
     "text": [
      "CO 0.17984746178799432\n",
      "NO2 0.29376413639404336\n",
      "SO2 0.3357605904503797\n",
      "PM2_5 0.19062781136758267\n"
     ]
    }
   ],
   "source": [
    "model = RandomForestRegressor()\n",
    "model.fit(X, y)\n",
    "importance = model.feature_importances_\n",
    "for i in range(len(importance)):\n",
    "    print(columns[i], importance[i])"
   ]
  },
  {
   "cell_type": "code",
   "execution_count": 18,
   "id": "5804608f",
   "metadata": {},
   "outputs": [
    {
     "name": "stdout",
     "output_type": "stream",
     "text": [
      "CO 0.13198125\n",
      "NO2 0.29829365\n",
      "SO2 0.32388422\n",
      "PM2_5 0.24584088\n"
     ]
    }
   ],
   "source": [
    "model = XGBRegressor()\n",
    "model.fit(X, y)\n",
    "importance = model.feature_importances_\n",
    "for i in range(len(importance)):\n",
    "    print(columns[i], importance[i])"
   ]
  },
  {
   "cell_type": "code",
   "execution_count": null,
   "id": "bee0334e",
   "metadata": {},
   "outputs": [],
   "source": []
  }
 ],
 "metadata": {
  "kernelspec": {
   "display_name": "Python 3 (ipykernel)",
   "language": "python",
   "name": "python3"
  },
  "language_info": {
   "codemirror_mode": {
    "name": "ipython",
    "version": 3
   },
   "file_extension": ".py",
   "mimetype": "text/x-python",
   "name": "python",
   "nbconvert_exporter": "python",
   "pygments_lexer": "ipython3",
   "version": "3.8.3"
  }
 },
 "nbformat": 4,
 "nbformat_minor": 5
}
