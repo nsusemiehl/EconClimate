{
 "cells": [
  {
   "cell_type": "code",
   "execution_count": 1,
   "id": "a74849b0",
   "metadata": {},
   "outputs": [],
   "source": [
    "import pandas as pd\n",
    "import datetime\n",
    "import numpy as np\n",
    "import matplotlib.pyplot as plt\n",
    "import os\n",
    "from sklearn.preprocessing import MinMaxScaler"
   ]
  },
  {
   "cell_type": "code",
   "execution_count": 2,
   "id": "9681a02f",
   "metadata": {},
   "outputs": [],
   "source": [
    "directory = './/data//official_air_pollution_IN' # government data\n",
    "\n",
    "dfs_by_city = []\n",
    "for filename in os.listdir(directory):\n",
    "    f = os.path.join(directory, filename)\n",
    "    \n",
    "    first = True\n",
    "    for filename2 in os.listdir(f):\n",
    "        f2 = os.path.join(filename, filename2)\n",
    "        path = f\"{directory}//{f2}\"\n",
    "        \n",
    "        if first:\n",
    "            df = pd.read_excel(path, skiprows=16)\n",
    "            first = False\n",
    "        else:\n",
    "            df2 = pd.read_excel(path, skiprows=16)\n",
    "            df = df2.merge(df, how=\"inner\")\n",
    "            \n",
    "        df[\"City\"] = np.repeat(filename, len(df.index))\n",
    "            \n",
    "    dfs_by_city.append(df)\n",
    "    \n",
    "all_gov_data = pd.concat(dfs_by_city).sort_values([\"From Date\", \"City\"])\n",
    "all_gov_data = all_gov_data.rename(columns={\"PM2.5\":\"PM2_5\",\"From Date\":\"Date\"}).drop([\"NH3\", \"To Date\"], axis=1)\n",
    "\n",
    "all_gov_data = all_gov_data.replace(\"None\", np.nan)\n",
    "all_gov_data.loc[all_gov_data[\"CO\"] <= 0, \"CO\"] = np.nan\n",
    "all_gov_data.loc[all_gov_data[\"SO2\"] <= 0, \"SO2\"] = np.nan\n",
    "all_gov_data.loc[all_gov_data[\"NO2\"] <= 0, \"NO2\"] = np.nan\n",
    "all_gov_data.loc[all_gov_data[\"PM2_5\"] <= 0, \"PM2_5\"] = np.nan\n",
    "all_gov_data[\"CO\"] = all_gov_data[\"CO\"]*1000 # reported in mg/m3, need to convert to ug/m3\n",
    "outlier_inds = all_gov_data.loc[all_gov_data[\"SO2\"] > 100, \"SO2\"].index\n",
    "all_gov_data.loc[outlier_inds, \"SO2\"] = np.nan\n",
    "outlier_inds = all_gov_data.loc[all_gov_data[\"CO\"] > 4000, \"CO\"].index\n",
    "all_gov_data.loc[outlier_inds, \"CO\"] = np.nan\n",
    "outlier_inds = all_gov_data.loc[all_gov_data[\"PM2_5\"] > 500, \"PM2_5\"].index\n",
    "all_gov_data.loc[outlier_inds, \"PM2_5\"] = np.nan"
   ]
  },
  {
   "cell_type": "code",
   "execution_count": 3,
   "id": "89ea7843",
   "metadata": {},
   "outputs": [],
   "source": [
    "# scaler = MinMaxScaler()    \n",
    "# scaler.fit(all_gov_data[['SO2', 'CO', 'NO2', 'PM2_5']])"
   ]
  },
  {
   "cell_type": "code",
   "execution_count": 4,
   "id": "ed7f2f39",
   "metadata": {},
   "outputs": [
    {
     "data": {
      "text/plain": [
       "MinMaxScaler()"
      ]
     },
     "execution_count": 4,
     "metadata": {},
     "output_type": "execute_result"
    }
   ],
   "source": [
    "SO2_scaler = MinMaxScaler()    \n",
    "SO2_scaler.fit(all_gov_data['SO2'].values.reshape(-1, 1))\n",
    "\n",
    "NO2_scaler = MinMaxScaler()    \n",
    "NO2_scaler.fit(all_gov_data['NO2'].values.reshape(-1, 1))\n",
    "\n",
    "PM2_5_scaler = MinMaxScaler()    \n",
    "PM2_5_scaler.fit(all_gov_data['PM2_5'].values.reshape(-1, 1))\n",
    "\n",
    "CO_scaler = MinMaxScaler()    \n",
    "CO_scaler.fit(all_gov_data['CO'].values.reshape(-1, 1))"
   ]
  },
  {
   "cell_type": "code",
   "execution_count": 5,
   "id": "79166073",
   "metadata": {},
   "outputs": [],
   "source": [
    "directory = './/data//official_air_pollution_IN' # government data\n",
    "\n",
    "dfs_by_city = []\n",
    "city_site_counts = []\n",
    "for filename in os.listdir(directory):\n",
    "    f = os.path.join(directory, filename)\n",
    "    \n",
    "    first = True\n",
    "    site_count = 0\n",
    "    site_dfs = []\n",
    "    for filename2 in os.listdir(f):\n",
    "        f2 = os.path.join(filename, filename2)\n",
    "        path = f\"{directory}//{f2}\"\n",
    "        \n",
    "        df = pd.read_excel(path, skiprows=16)\n",
    "        \n",
    "        df[\"Site\"] = np.repeat(site_count, len(df.index))\n",
    "        df[\"City\"] = np.repeat(filename, len(df.index))\n",
    "        \n",
    "        df = df.replace(\"None\", np.nan)\n",
    "        if \"SO2\" in df.columns:\n",
    "            df.loc[df[\"SO2\"] <= 0, \"SO2\"] = np.nan\n",
    "            outlier_inds = df.loc[df[\"SO2\"] > 100, \"SO2\"].index\n",
    "            df.loc[outlier_inds, \"SO2\"] = np.nan\n",
    "        if \"NO2\" in df.columns:\n",
    "            df.loc[df[\"NO2\"] <= 0, \"NO2\"] = np.nan\n",
    "        if \"CO\" in df.columns:\n",
    "            df.loc[df[\"CO\"] <= 0, \"CO\"] = np.nan\n",
    "            all_gov_data[\"CO\"] = all_gov_data[\"CO\"]*1000\n",
    "            outlier_inds = df.loc[df[\"CO\"] > 4000, \"CO\"].index\n",
    "            df.loc[outlier_inds, \"CO\"] = np.nan\n",
    "        if \"PM2_5\" in df.columns:\n",
    "            df.loc[df[\"PM2_5\"] <= 0, \"PM2_5\"] = np.nan\n",
    "            outlier_inds = df.loc[df[\"PM2_5\"] > 500, \"PM2_5\"].index\n",
    "            df.loc[outlier_inds, \"PM2_5\"] = np.nan\n",
    "        df = df.replace(\"Aizawl\", \"Aizwal\")\n",
    "        df = df.replace(\"Bhilai\", \"DurgBhilai\")\n",
    "        df = df.replace(\"Vijayawada\", \"Vijaywada\")\n",
    "        \n",
    "        site_dfs.append(df)\n",
    "        site_count += 1\n",
    "            \n",
    "    dfs_by_city.append(site_dfs)\n",
    "    city_site_counts.append([filename, site_count])"
   ]
  },
  {
   "cell_type": "code",
   "execution_count": 6,
   "id": "d8a53960",
   "metadata": {},
   "outputs": [],
   "source": [
    "city_list = [i[0] for i in city_site_counts]"
   ]
  },
  {
   "cell_type": "code",
   "execution_count": 9,
   "id": "8824556f",
   "metadata": {},
   "outputs": [],
   "source": [
    "all_site_lists = []\n",
    "all_site_aqis = []\n",
    "for i in range(len(dfs_by_city)):\n",
    "    city_dfs = dfs_by_city[i]\n",
    "    \n",
    "    site_aqis = []\n",
    "    for j in range(len(city_dfs)):\n",
    "        df = city_dfs[j]\n",
    "        df = df.rename(columns={\"From Date\":\"Date\"}).drop(\"To Date\", axis=1)\n",
    "        df[\"Date\"] = pd.to_datetime(df.Date).dt.date\n",
    "        for col in df.columns:\n",
    "            if col == \"SO2\":\n",
    "                df[col] = SO2_scaler.transform(df[col].values.reshape(-1, 1))\n",
    "            elif col == \"NO2\":\n",
    "                df[col] = NO2_scaler.transform(df[col].values.reshape(-1, 1))\n",
    "            elif col == \"CO\":\n",
    "                df[col] = CO_scaler.transform(df[col].values.reshape(-1, 1))\n",
    "            elif col == \"PM2_5\":\n",
    "                df[col] = PM2_5_scaler.transform(df[col].values.reshape(-1, 1))\n",
    "                \n",
    "        for col in df.columns:\n",
    "            if col not in [\"SO2\", \"NO2\", \"CO\", \"PM2_5\"]:\n",
    "                df = df.drop(columns=col)\n",
    "        df[\"AQI\"] = df.mean(axis=1, skipna=True)\n",
    "        site_aqis.append(np.mean(df[\"AQI\"]))\n",
    "        \n",
    "    all_site_aqis.append(site_aqis)\n",
    "    \n",
    "    site_list = [f\"Site {i+1}\" for i in range(len(city_dfs))]\n",
    "    all_site_lists.append(site_list)"
   ]
  },
  {
   "cell_type": "code",
   "execution_count": 12,
   "id": "0a17dda8",
   "metadata": {},
   "outputs": [],
   "source": [
    "with open(\".\\\\data\\\\processed_new\\\\city_list.txt\", 'w') as f:\n",
    "    for line in city_list:\n",
    "        f.write(f\"{line}\\n\")\n",
    "        \n",
    "with open(\".\\\\data\\\\processed_new\\\\within_city_aqis.txt\", 'w') as f:\n",
    "    for line in all_site_aqis:\n",
    "        f.write(f\"{line}\\n\")\n",
    "        \n",
    "with open(\".\\\\data\\\\processed_new\\\\within_city_sites.txt\", 'w') as f:\n",
    "    for line in all_site_lists:\n",
    "        f.write(f\"{line}\\n\")"
   ]
  }
 ],
 "metadata": {
  "kernelspec": {
   "display_name": "Python 3 (ipykernel)",
   "language": "python",
   "name": "python3"
  },
  "language_info": {
   "codemirror_mode": {
    "name": "ipython",
    "version": 3
   },
   "file_extension": ".py",
   "mimetype": "text/x-python",
   "name": "python",
   "nbconvert_exporter": "python",
   "pygments_lexer": "ipython3",
   "version": "3.8.3"
  }
 },
 "nbformat": 4,
 "nbformat_minor": 5
}
